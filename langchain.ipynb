{
 "cells": [
  {
   "cell_type": "code",
   "id": "initial_id",
   "metadata": {
    "collapsed": true,
    "ExecuteTime": {
     "end_time": "2025-02-20T21:33:24.931620Z",
     "start_time": "2025-02-20T21:33:24.925596Z"
    }
   },
   "source": [
    "from langchain_core.prompts import PromptTemplate, ChatPromptTemplate\n",
    "from langchain_core.output_parsers import PydanticOutputParser, StrOutputParser\n",
    "from langchain.output_parsers import OutputFixingParser\n",
    "from langchain_core.tools import tool\n",
    "from langchain_core.runnables import RunnablePassthrough\n",
    "from dotenv import load_dotenv\n",
    "load_dotenv()\n",
    "from langchain_openai import ChatOpenAI\n",
    "\n",
    "\n",
    "from langchain.agents import tool\n",
    "from langchain.agents import initialize_agent, AgentType\n",
    "from langchain.llms import OpenAI\n",
    "\n",
    "from langchain_core.messages import HumanMessage\n",
    "\n",
    "from langgraph.prebuilt import create_react_agent"
   ],
   "outputs": [],
   "execution_count": 2
  },
  {
   "metadata": {
    "ExecuteTime": {
     "end_time": "2025-02-20T21:33:25.276277Z",
     "start_time": "2025-02-20T21:33:25.175858Z"
    }
   },
   "cell_type": "code",
   "source": "llm = ChatOpenAI(model_name=\"gpt-4o-mini\")",
   "id": "8728cc6cd94b35ff",
   "outputs": [],
   "execution_count": 3
  },
  {
   "metadata": {
    "ExecuteTime": {
     "end_time": "2025-02-20T21:33:25.617055Z",
     "start_time": "2025-02-20T21:33:25.604528Z"
    }
   },
   "cell_type": "code",
   "source": [
    "\n",
    "\n",
    "@tool\n",
    "def multiply(a: int, b: int) -> int:\n",
    "    \"\"\"\n",
    "    when you need to multiply use this tool\n",
    "    \"\"\"\n",
    "    \n",
    "    return a * b"
   ],
   "id": "5838f37810356310",
   "outputs": [],
   "execution_count": 4
  },
  {
   "metadata": {
    "ExecuteTime": {
     "end_time": "2025-02-20T21:33:26.292127Z",
     "start_time": "2025-02-20T21:33:26.289049Z"
    }
   },
   "cell_type": "code",
   "source": "tools = [multiply]",
   "id": "bac7a6cf95fe0fcd",
   "outputs": [],
   "execution_count": 5
  },
  {
   "metadata": {
    "ExecuteTime": {
     "end_time": "2025-02-20T21:33:27.919764Z",
     "start_time": "2025-02-20T21:33:26.596097Z"
    }
   },
   "cell_type": "code",
   "source": [
    "\n",
    "model_with_tools = llm.bind_tools(tools)\n",
    "\n",
    "response = model_with_tools.invoke([HumanMessage(content=\"solve four times 3 \")])\n",
    "\n",
    "print(f\"ContentString: {response.content}\")\n",
    "print(f\"ToolCalls: {response.tool_calls}\")"
   ],
   "id": "e09e4a2fbf7a623f",
   "outputs": [
    {
     "name": "stdout",
     "output_type": "stream",
     "text": [
      "ContentString: \n",
      "ToolCalls: [{'name': 'multiply', 'args': {'a': 4, 'b': 3}, 'id': 'call_M9dBfrH6JFdTseFFo3MffRKr', 'type': 'tool_call'}]\n"
     ]
    }
   ],
   "execution_count": 6
  },
  {
   "metadata": {},
   "cell_type": "code",
   "outputs": [],
   "execution_count": null,
   "source": "",
   "id": "b886f1b6552cd316"
  }
 ],
 "metadata": {
  "kernelspec": {
   "display_name": "Python 3",
   "language": "python",
   "name": "python3"
  },
  "language_info": {
   "codemirror_mode": {
    "name": "ipython",
    "version": 2
   },
   "file_extension": ".py",
   "mimetype": "text/x-python",
   "name": "python",
   "nbconvert_exporter": "python",
   "pygments_lexer": "ipython2",
   "version": "2.7.6"
  }
 },
 "nbformat": 4,
 "nbformat_minor": 5
}
